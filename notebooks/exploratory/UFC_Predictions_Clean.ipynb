{
 "cells": [
  {
   "cell_type": "markdown",
   "metadata": {},
   "source": [
    "# UFC Fight Predictions - Clean Interface\n",
    "\n",
    "Simple, focused notebook for predicting UFC fight outcomes using the latest trained models.\n",
    "\n",
    "**Features:**\n",
    "- Automatic latest model loading\n",
    "- Single fight predictions\n",
    "- Full fight card analysis\n",
    "- Clean, professional output"
   ]
  },
  {
   "cell_type": "code",
   "execution_count": 1,
   "metadata": {},
   "outputs": [
    {
     "name": "stdout",
     "output_type": "stream",
     "text": [
      "✅ Imports loaded successfully\n"
     ]
    }
   ],
   "source": [
    "# Essential imports\n",
    "import pandas as pd\n",
    "import numpy as np\n",
    "import joblib\n",
    "import json\n",
    "import sys\n",
    "from pathlib import Path\n",
    "import matplotlib.pyplot as plt\n",
    "import warnings\n",
    "warnings.filterwarnings('ignore')\n",
    "\n",
    "# Add project root to path\n",
    "sys.path.append('..')\n",
    "print(\"✅ Imports loaded successfully\")"
   ]
  },
  {
   "cell_type": "code",
   "execution_count": 2,
   "metadata": {},
   "outputs": [
    {
     "name": "stdout",
     "output_type": "stream",
     "text": [
      "✅ Models loaded successfully\n",
      "   Version: 2025-07-30_17-06\n",
      "   Fighters in database: 4,378\n",
      "   Winner model features: 70\n"
     ]
    }
   ],
   "source": [
    "# Load latest trained models and data\n",
    "def load_latest_models():\n",
    "    \"\"\"Auto-detect and load the latest trained models.\"\"\"\n",
    "    model_dir = Path('./model')\n",
    "    \n",
    "    # Find latest training directory\n",
    "    training_dirs = [d for d in model_dir.iterdir() \n",
    "                    if d.is_dir() and d.name.startswith('training_')]\n",
    "    \n",
    "    if training_dirs:\n",
    "        latest_dir = max(training_dirs, key=lambda x: x.stat().st_mtime)\n",
    "        timestamp = latest_dir.name.split('_', 1)[1]\n",
    "        \n",
    "        # Load from latest training directory\n",
    "        winner_model_path = latest_dir / f'ufc_winner_model_tuned_{timestamp}.joblib'\n",
    "        method_model_path = latest_dir / f'ufc_method_model_{timestamp}.joblib'\n",
    "        winner_cols_path = latest_dir / f'winner_model_columns_{timestamp}.json'\n",
    "        method_cols_path = latest_dir / f'method_model_columns_{timestamp}.json'\n",
    "        fighters_data_path = latest_dir / f'ufc_fighters_engineered_{timestamp}.csv'\n",
    "        version = timestamp\n",
    "    else:\n",
    "        # Fallback to standard locations\n",
    "        winner_model_path = model_dir / 'ufc_random_forest_model_tuned.joblib'\n",
    "        method_model_path = model_dir / 'ufc_multiclass_model.joblib'\n",
    "        winner_cols_path = model_dir / 'winner_model_columns.json'\n",
    "        method_cols_path = model_dir / 'method_model_columns.json'\n",
    "        fighters_data_path = model_dir / 'ufc_fighters_engineered_corrected.csv'\n",
    "        version = 'standard'\n",
    "    \n",
    "    # Load all components\n",
    "    try:\n",
    "        fighters_df = pd.read_csv(fighters_data_path)\n",
    "        \n",
    "        with open(winner_cols_path, 'r') as f:\n",
    "            winner_cols = json.load(f)\n",
    "        with open(method_cols_path, 'r') as f:\n",
    "            method_cols = json.load(f)\n",
    "        \n",
    "        winner_model = joblib.load(winner_model_path)\n",
    "        method_model = joblib.load(method_model_path)\n",
    "        \n",
    "        return {\n",
    "            'fighters_df': fighters_df,\n",
    "            'winner_cols': winner_cols,\n",
    "            'method_cols': method_cols,\n",
    "            'winner_model': winner_model,\n",
    "            'method_model': method_model,\n",
    "            'version': version,\n",
    "            'fighter_count': len(fighters_df)\n",
    "        }\n",
    "    except Exception as e:\n",
    "        print(f\"❌ Error loading models: {e}\")\n",
    "        return None\n",
    "\n",
    "# Load models\n",
    "model_data = load_latest_models()\n",
    "\n",
    "if model_data:\n",
    "    print(f\"✅ Models loaded successfully\")\n",
    "    print(f\"   Version: {model_data['version']}\")\n",
    "    print(f\"   Fighters in database: {model_data['fighter_count']:,}\")\n",
    "    print(f\"   Winner model features: {len(model_data['winner_cols'])}\")\n",
    "else:\n",
    "    print(\"❌ Failed to load models. Check if models exist in ./model/ directory.\")"
   ]
  },
  {
   "cell_type": "code",
   "execution_count": 3,
   "metadata": {},
   "outputs": [
    {
     "name": "stdout",
     "output_type": "stream",
     "text": [
      "✅ Prediction function ready\n"
     ]
    }
   ],
   "source": [
    "# Clean prediction function\n",
    "def predict_fight(fighter1, fighter2, show_details=True):\n",
    "    \"\"\"Predict UFC fight outcome with clean output.\"\"\"\n",
    "    \n",
    "    if not model_data:\n",
    "        return {\"error\": \"Models not loaded\"}\n",
    "    \n",
    "    # Import prediction function\n",
    "    try:\n",
    "        from ufc_predictor.core.prediction import predict_fight_symmetrical\n",
    "    except ImportError:\n",
    "        return {\"error\": \"Could not import prediction function\"}\n",
    "    \n",
    "    # Make prediction\n",
    "    result = predict_fight_symmetrical(\n",
    "        fighter1, fighter2,\n",
    "        model_data['fighters_df'],\n",
    "        model_data['winner_cols'],\n",
    "        model_data['method_cols'],\n",
    "        model_data['winner_model'],\n",
    "        model_data['method_model']\n",
    "    )\n",
    "    \n",
    "    # Handle errors\n",
    "    if 'error' in result:\n",
    "        if show_details:\n",
    "            print(f\"❌ {result['error']}\")\n",
    "        return result\n",
    "    \n",
    "    # Display results\n",
    "    if show_details:\n",
    "        print(f\"🥊 {result['fight']}\")\n",
    "        print(f\"   Winner: {result['predicted_winner']} ({result['winner_confidence']})\")\n",
    "        print(f\"   Method: {result['predicted_method']}\")\n",
    "        print(f\"   Method probabilities:\")\n",
    "        for method, prob in result['method_probabilities'].items():\n",
    "            print(f\"      {method}: {prob}\")\n",
    "    \n",
    "    return result\n",
    "\n",
    "print(\"✅ Prediction function ready\")"
   ]
  },
  {
   "cell_type": "code",
   "execution_count": 4,
   "metadata": {},
   "outputs": [
    {
     "name": "stdout",
     "output_type": "stream",
     "text": [
      "🥊 Khamzat Chimaev vs dricus du plessis\n",
      "   Winner: Khamzat Chimaev (54.46%)\n",
      "   Method: KO/TKO\n",
      "   Method probabilities:\n",
      "      Decision: 6.94%\n",
      "      KO/TKO: 52.14%\n",
      "      Submission: 40.92%\n"
     ]
    }
   ],
   "source": [
    "# Single Fight Prediction\n",
    "# Simply change the fighter names below to predict any fight\n",
    "\n",
    "fighter_a = \"Khamzat Chimaev\"\n",
    "fighter_b = \"dricus du plessis\"\n",
    "\n",
    "prediction = predict_fight(fighter_a, fighter_b)\n",
    "\n",
    "# You can also predict other fights by changing the names:\n",
    "# prediction = predict_fight(\"Islam Makhachev\", \"Charles Oliveira\")\n",
    "# prediction = predict_fight(\"Alex Pereira\", \"Israel Adesanya\")"
   ]
  },
  {
   "cell_type": "code",
   "execution_count": 11,
   "metadata": {},
   "outputs": [
    {
     "name": "stdout",
     "output_type": "stream",
     "text": [
      "✅ Fight card function ready\n"
     ]
    }
   ],
   "source": [
    "# Multi-Fight Card Analysis\n",
    "def predict_fight_card(fight_list, show_summary=True):\n",
    "    \"\"\"Predict multiple fights with clean summary.\"\"\"\n",
    "    \n",
    "    results = []\n",
    "    \n",
    "    print(f\"🏆 UFC FIGHT CARD PREDICTIONS\\n{'-'*50}\")\n",
    "    \n",
    "    for i, fight in enumerate(fight_list, 1):\n",
    "        # Handle different input formats\n",
    "        if isinstance(fight, tuple):\n",
    "            f1, f2 = fight\n",
    "        elif ' vs ' in fight:\n",
    "            f1, f2 = fight.split(' vs ')\n",
    "        elif ' vs. ' in fight:\n",
    "            f1, f2 = fight.split(' vs. ')\n",
    "        else:\n",
    "            print(f\"❌ Invalid fight format: {fight}\")\n",
    "            continue\n",
    "        \n",
    "        f1, f2 = f1.strip(), f2.strip()\n",
    "        \n",
    "        print(f\"\\nFight {i}: {f1} vs {f2}\")\n",
    "        result = predict_fight(f1, f2, show_details=False)\n",
    "        \n",
    "        if 'error' not in result:\n",
    "            print(f\"   → {result['predicted_winner']} ({result['winner_confidence']})\")\n",
    "            print(f\"   → Method: {result['predicted_method']}\")\n",
    "            results.append(result)\n",
    "        else:\n",
    "            print(f\"   → {result['error']}\")\n",
    "    \n",
    "    # Summary\n",
    "    if show_summary and results:\n",
    "        print(f\"\\n📊 CARD SUMMARY\\n{'-'*20}\")\n",
    "        \n",
    "        # Method distribution\n",
    "        methods = [r['predicted_method'] for r in results]\n",
    "        method_counts = pd.Series(methods).value_counts()\n",
    "        \n",
    "        print(\"Predicted methods:\")\n",
    "        for method, count in method_counts.items():\n",
    "            print(f\"   {method}: {count} fights\")\n",
    "    \n",
    "    return results\n",
    "\n",
    "print(\"✅ Fight card function ready\")"
   ]
  },
  {
   "cell_type": "code",
   "execution_count": 12,
   "metadata": {},
   "outputs": [
    {
     "name": "stdout",
     "output_type": "stream",
     "text": [
      "🏆 UFC FIGHT CARD PREDICTIONS\n",
      "--------------------------------------------------\n",
      "\n",
      "Fight 1: Jon Jones vs Stipe Miocic\n",
      "   → Jon Jones (96.21%)\n",
      "   → Method: KO/TKO\n",
      "\n",
      "Fight 2: Islam Makhachev vs Charles Oliveira\n",
      "   → Islam Makhachev (95.03%)\n",
      "   → Method: Submission\n",
      "\n",
      "Fight 3: Alex Pereira vs Israel Adesanya\n",
      "   → Alex Pereira (63.38%)\n",
      "   → Method: KO/TKO\n",
      "\n",
      "Fight 4: Sean O'Malley vs Aljamain Sterling\n",
      "   → Sean O'Malley (89.69%)\n",
      "   → Method: KO/TKO\n",
      "\n",
      "Fight 5: Colby Covington vs Leon Edwards\n",
      "   → Leon Edwards (79.43%)\n",
      "   → Method: KO/TKO\n",
      "\n",
      "📊 CARD SUMMARY\n",
      "--------------------\n",
      "Predicted methods:\n",
      "   KO/TKO: 4 fights\n",
      "   Submission: 1 fights\n"
     ]
    }
   ],
   "source": [
    "# Example Fight Card\n",
    "# Edit this list to predict any upcoming UFC card\n",
    "\n",
    "upcoming_card = [\n",
    "    \"Jon Jones vs Stipe Miocic\",\n",
    "    \"Islam Makhachev vs Charles Oliveira\", \n",
    "    \"Alex Pereira vs Israel Adesanya\",\n",
    "    \"Sean O'Malley vs Aljamain Sterling\",\n",
    "    \"Colby Covington vs Leon Edwards\"\n",
    "]\n",
    "\n",
    "card_results = predict_fight_card(upcoming_card)\n",
    "\n",
    "# Alternative format - you can also use tuples:\n",
    "# card_as_tuples = [\n",
    "#     (\"Fighter A\", \"Fighter B\"),\n",
    "#     (\"Fighter C\", \"Fighter D\")\n",
    "# ]\n",
    "# results = predict_fight_card(card_as_tuples)"
   ]
  },
  {
   "cell_type": "code",
   "execution_count": 13,
   "metadata": {},
   "outputs": [
    {
     "data": {
      "image/png": "[encoded data removed]",
      "text/plain": [
       "<Figure size 800x500 with 1 Axes>"
      ]
     },
     "metadata": {},
     "output_type": "display_data"
    },
    {
     "name": "stdout",
     "output_type": "stream",
     "text": [
      "\n",
      "Method breakdown: {'KO/TKO': np.int64(4), 'Submission': np.int64(1)}\n"
     ]
    }
   ],
   "source": [
    "# Optional: Basic Visualization\n",
    "def plot_fight_methods(results, title=\"Fight Card Method Predictions\"):\n",
    "    \"\"\"Simple bar chart of predicted methods.\"\"\"\n",
    "    \n",
    "    if not results:\n",
    "        print(\"No results to plot\")\n",
    "        return\n",
    "    \n",
    "    # Count predicted methods\n",
    "    methods = [r['predicted_method'] for r in results if 'predicted_method' in r]\n",
    "    method_counts = pd.Series(methods).value_counts()\n",
    "    \n",
    "    # Create simple bar plot\n",
    "    plt.figure(figsize=(8, 5))\n",
    "    method_counts.plot(kind='bar', color=['#1f77b4', '#ff7f0e', '#2ca02c'])\n",
    "    plt.title(title)\n",
    "    plt.xlabel('Predicted Method')\n",
    "    plt.ylabel('Number of Fights') \n",
    "    plt.xticks(rotation=45)\n",
    "    plt.tight_layout()\n",
    "    plt.show()\n",
    "    \n",
    "    return method_counts\n",
    "\n",
    "# Plot the results from the previous card (if any)\n",
    "if 'card_results' in locals() and card_results:\n",
    "    method_distribution = plot_fight_methods(card_results, \"Upcoming Card Method Predictions\")\n",
    "    print(f\"\\nMethod breakdown: {dict(method_distribution)}\")\n",
    "else:\n",
    "    print(\"No card results to visualize. Run the fight card prediction first.\")"
   ]
  },
  {
   "cell_type": "code",
   "execution_count": 14,
   "metadata": {},
   "outputs": [
    {
     "name": "stdout",
     "output_type": "stream",
     "text": [
      "\n",
      "✅ All functions ready! You can now:\n",
      "   • Modify fighter names in the single fight cell\n",
      "   • Edit the upcoming_card list for multi-fight predictions\n",
      "   • Use search_fighters('name') to find exact fighter names\n",
      "   • Run plot_fight_methods(results) for visualizations\n"
     ]
    }
   ],
   "source": [
    "# Optional: Fighter Search Helper\n",
    "def search_fighters(search_term, limit=10):\n",
    "    \"\"\"Find fighters in database by name.\"\"\"\n",
    "    \n",
    "    if not model_data:\n",
    "        print(\"Models not loaded\")\n",
    "        return []\n",
    "    \n",
    "    # Search for fighters containing the term\n",
    "    fighters = model_data['fighters_df']['Name'].dropna()\n",
    "    matches = fighters[fighters.str.contains(search_term, case=False, na=False)]\n",
    "    \n",
    "    results = matches.head(limit).tolist()\n",
    "    \n",
    "    if results:\n",
    "        print(f\"Found {len(results)} fighters matching '{search_term}':\")\n",
    "        for i, fighter in enumerate(results, 1):\n",
    "            print(f\"   {i}. {fighter}\")\n",
    "    else:\n",
    "        print(f\"No fighters found matching '{search_term}'\")\n",
    "    \n",
    "    return results\n",
    "\n",
    "# Example searches - uncomment to use:\n",
    "# search_fighters(\"Jones\")\n",
    "# search_fighters(\"Silva\")\n",
    "# search_fighters(\"Mac\")  # Will find McGregor, MacDonald, etc.\n",
    "\n",
    "print(\"\\n✅ All functions ready! You can now:\")\n",
    "print(\"   • Modify fighter names in the single fight cell\")\n",
    "print(\"   • Edit the upcoming_card list for multi-fight predictions\")\n",
    "print(\"   • Use search_fighters('name') to find exact fighter names\")\n",
    "print(\"   • Run plot_fight_methods(results) for visualizations\")"
   ]
  }
 ],
 "metadata": {
  "kernelspec": {
   "display_name": "ufc-predictor",
   "language": "python",
   "name": "python3"
  },
  "language_info": {
   "codemirror_mode": {
    "name": "ipython",
    "version": 3
   },
   "file_extension": ".py",
   "mimetype": "text/x-python",
   "name": "python",
   "nbconvert_exporter": "python",
   "pygments_lexer": "ipython3",
   "version": "3.9.6"
  }
 },
 "nbformat": 4,
 "nbformat_minor": 4
}
