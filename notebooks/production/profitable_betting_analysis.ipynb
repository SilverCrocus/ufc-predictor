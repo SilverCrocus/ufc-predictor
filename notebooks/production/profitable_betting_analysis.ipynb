{
  "cells": [
    {
      "cell_type": "raw",
      "metadata": {
        "vscode": {
          "languageId": "raw"
        }
      },
      "source": [
        "# 💰 UFC Profitable Betting Analysis\n",
        "\n",
        "This notebook demonstrates how to optimize your UFC predictions for **profitability** using:\n",
        "\n",
        "- ✅ **Expected Value (EV) calculations**\n",
        "- ✅ **Kelly Criterion for bet sizing**\n",
        "- ✅ **Bankroll management**\n",
        "- ✅ **Profit tracking and ROI analysis**\n",
        "\n",
        "## Key Concept: Profitability vs. Accuracy\n",
        "\n",
        "A profitable betting model doesn't need to be more accurate than the market - it just needs to **disagree with the market in the right direction**.\n",
        "\n",
        "**Expected Value Formula:**\n",
        "```\n",
        "EV = (Your_Probability × Decimal_Odds) - 1\n",
        "```\n",
        "\n",
        "**Positive EV = Profitable bet opportunity** 🎯\n"
      ]
    },
    {
      "cell_type": "code",
      "execution_count": 1,
      "metadata": {},
      "outputs": [
        {
          "ename": "ImportError",
          "evalue": "cannot import name 'HEADERS' from 'config' (/Users/diyagamah/Documents/ufc predictor/config/__init__.py)",
          "output_type": "error",
          "traceback": [
            "\u001b[31m---------------------------------------------------------------------------\u001b[39m",
            "\u001b[31mImportError\u001b[39m                               Traceback (most recent call last)",
            "\u001b[36mCell\u001b[39m\u001b[36m \u001b[39m\u001b[32mIn[1]\u001b[39m\u001b[32m, line 20\u001b[39m\n\u001b[32m     18\u001b[39m \u001b[38;5;28;01mfrom\u001b[39;00m\u001b[38;5;250m \u001b[39m\u001b[34;01msrc\u001b[39;00m\u001b[34;01m.\u001b[39;00m\u001b[34;01mprofitable_predictor\u001b[39;00m\u001b[38;5;250m \u001b[39m\u001b[38;5;28;01mimport\u001b[39;00m ProfitableUFCPredictor, create_profitable_predictor_from_latest\n\u001b[32m     19\u001b[39m \u001b[38;5;28;01mfrom\u001b[39;00m\u001b[38;5;250m \u001b[39m\u001b[34;01msrc\u001b[39;00m\u001b[34;01m.\u001b[39;00m\u001b[34;01mprofitability\u001b[39;00m\u001b[38;5;250m \u001b[39m\u001b[38;5;28;01mimport\u001b[39;00m ProfitabilityOptimizer, BettingOdds\n\u001b[32m---> \u001b[39m\u001b[32m20\u001b[39m \u001b[38;5;28;01mfrom\u001b[39;00m\u001b[38;5;250m \u001b[39m\u001b[34;01mwebscraper\u001b[39;00m\u001b[34;01m.\u001b[39;00m\u001b[34;01modds_scraper\u001b[39;00m\u001b[38;5;250m \u001b[39m\u001b[38;5;28;01mimport\u001b[39;00m UFCOddsScraper, get_upcoming_ufc_odds\n\u001b[32m     22\u001b[39m \u001b[38;5;66;03m# Set up plotting\u001b[39;00m\n\u001b[32m     23\u001b[39m plt.style.use(\u001b[33m'\u001b[39m\u001b[33mdefault\u001b[39m\u001b[33m'\u001b[39m)\n",
            "\u001b[36mFile \u001b[39m\u001b[32m~/Documents/ufc predictor/webscraper/odds_scraper.py:23\u001b[39m\n\u001b[32m     20\u001b[39m \u001b[38;5;28;01mimport\u001b[39;00m\u001b[38;5;250m \u001b[39m\u001b[34;01mre\u001b[39;00m\n\u001b[32m     21\u001b[39m \u001b[38;5;28;01mfrom\u001b[39;00m\u001b[38;5;250m \u001b[39m\u001b[34;01mdataclasses\u001b[39;00m\u001b[38;5;250m \u001b[39m\u001b[38;5;28;01mimport\u001b[39;00m dataclass\n\u001b[32m---> \u001b[39m\u001b[32m23\u001b[39m \u001b[38;5;28;01mfrom\u001b[39;00m\u001b[38;5;250m \u001b[39m\u001b[34;01mconfig\u001b[39;00m\u001b[38;5;250m \u001b[39m\u001b[38;5;28;01mimport\u001b[39;00m HEADERS  \u001b[38;5;66;03m# Use existing headers from config\u001b[39;00m\n\u001b[32m     26\u001b[39m \u001b[38;5;129m@dataclass\u001b[39m\n\u001b[32m     27\u001b[39m \u001b[38;5;28;01mclass\u001b[39;00m\u001b[38;5;250m \u001b[39m\u001b[34;01mFightOdds\u001b[39;00m:\n\u001b[32m     28\u001b[39m \u001b[38;5;250m    \u001b[39m\u001b[33;03m\"\"\"Container for fight odds data.\"\"\"\u001b[39;00m\n",
            "\u001b[31mImportError\u001b[39m: cannot import name 'HEADERS' from 'config' (/Users/diyagamah/Documents/ufc predictor/config/__init__.py)"
          ]
        }
      ],
      "source": [
        "# Import all necessary modules\n",
        "import sys\n",
        "from pathlib import Path\n",
        "\n",
        "# Add project root to path\n",
        "project_root = Path().resolve().parent\n",
        "sys.path.append(str(project_root))\n",
        "\n",
        "import pandas as pd\n",
        "import numpy as np\n",
        "import matplotlib.pyplot as plt\n",
        "import seaborn as sns\n",
        "from datetime import datetime\n",
        "import warnings\n",
        "warnings.filterwarnings('ignore')\n",
        "\n",
        "# Import our profitability modules\n",
        "from ufc_predictor.betting.profitable_predictor import ProfitableUFCPredictor, create_profitable_predictor_from_latest\n",
        "from ufc_predictor.betting.profitability import ProfitabilityOptimizer, BettingOdds\n",
        "from ufc_predictor.scrapers.odds_scraper import UFCOddsScraper, get_upcoming_ufc_odds\n",
        "\n",
        "# Set up plotting\n",
        "plt.style.use('default')\n",
        "sns.set_palette(\"husl\")\n",
        "\n",
        "print(\"📦 All modules imported successfully!\")\n",
        "print(\"💰 Ready for profitable betting analysis!\")\n"
      ]
    },
    {
      "cell_type": "raw",
      "metadata": {
        "vscode": {
          "languageId": "raw"
        }
      },
      "source": [
        "## 🚀 Step 1: Initialize the Profitable Predictor\n",
        "\n",
        "This automatically loads your latest trained models and sets up the profitability analysis.\n"
      ]
    },
    {
      "cell_type": "code",
      "execution_count": null,
      "metadata": {},
      "outputs": [],
      "source": [
        "# Initialize the profitable predictor with your trained models\n",
        "print(\"🔍 Initializing Profitable UFC Predictor...\")\n",
        "\n",
        "try:\n",
        "    # This automatically finds and loads your latest trained models\n",
        "    predictor = create_profitable_predictor_from_latest()\n",
        "    print(\"✅ Predictor initialized successfully!\")\n",
        "    \n",
        "    # You can also set a custom bankroll\n",
        "    predictor.update_bankroll(2000.0)  # Set to $2000 for example\n",
        "    \n",
        "except Exception as e:\n",
        "    print(f\"❌ Error initializing predictor: {e}\")\n",
        "    print(\"Make sure you have trained models available.\")\n"
      ]
    }
  ],
  "metadata": {
    "kernelspec": {
      "display_name": ".venv",
      "language": "python",
      "name": "python3"
    },
    "language_info": {
      "codemirror_mode": {
        "name": "ipython",
        "version": 3
      },
      "file_extension": ".py",
      "mimetype": "text/x-python",
      "name": "python",
      "nbconvert_exporter": "python",
      "pygments_lexer": "ipython3",
      "version": "3.11.0"
    }
  },
  "nbformat": 4,
  "nbformat_minor": 2
}
