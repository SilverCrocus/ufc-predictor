{
 "cells": [
  {
   "cell_type": "code",
   "source": "# \ud83d\udcca RESULT UPDATE HELPERS\n# ==========================================\n# Use these functions after fights to update bet results\n\nprint(\"\ud83d\udcca RESULT UPDATE HELPERS\")\nprint(\"=\" * 40)\n\n# Import result update functions with module reload support\ntry:\n    import sys\n    import importlib\n    sys.path.append('.')\n    \n    # Force reload bet_tracking module to get latest changes\n    if 'src.bet_tracking' in sys.modules:\n        importlib.reload(sys.modules['src.bet_tracking'])\n        print(\"\ud83d\udd04 Reloaded bet_tracking module with latest changes\")\n    \n    from src.bet_tracking import BetTracker, quick_update_results\n    print(\"\u2705 Result update functions loaded\")\nexcept ImportError as e:\n    print(f\"\u274c Error importing: {e}\")\n\n# Initialize tracker\ntracker = BetTracker()\n\ndef update_single_bet(bet_id: str, result: str):\n    \"\"\"Update a single bet result (WIN/LOSS)\"\"\"\n    import pandas as pd\n    \n    try:\n        df = pd.read_csv(tracker.csv_path)\n        bet_data = df[df['bet_id'] == bet_id]\n        \n        if bet_data.empty:\n            print(f\"\u274c Bet ID {bet_id} not found\")\n            return False\n        \n        bet_size = bet_data['bet_size'].iloc[0]\n        odds_decimal = bet_data['odds_decimal'].iloc[0]\n        \n        if result.upper() == 'WIN':\n            profit_loss = bet_size * (odds_decimal - 1)\n        elif result.upper() == 'LOSS':\n            profit_loss = -bet_size\n        else:\n            print(\"\u274c Result must be 'WIN' or 'LOSS'\")\n            return False\n        \n        success = tracker.update_fight_result(bet_id, result.upper(), profit_loss)\n        return success\n        \n    except Exception as e:\n        print(f\"\u274c Error: {e}\")\n        return False\n\ndef update_event_results_simple(event_name: str, results: dict):\n    \"\"\"Update multiple bets for an event\"\"\"\n    import pandas as pd\n    \n    detailed_results = {}\n    for fighter, result in results.items():\n        detailed_results[fighter] = {\n            'result': result.upper(),\n            'date': pd.Timestamp.now().strftime('%Y-%m-%d'),\n            'method': 'Unknown'\n        }\n    \n    updated_count = tracker.update_event_results(event_name, detailed_results)\n    \n    # Show event summary\n    if updated_count > 0:\n        event_bets = tracker.get_bets_by_event(event_name)\n        settled_bets = event_bets[event_bets['actual_result'].notna()]\n        \n        if not settled_bets.empty:\n            total_pl = settled_bets['profit_loss'].sum()\n            total_staked = settled_bets['bet_size'].sum()\n            roi = (total_pl / total_staked) if total_staked > 0 else 0\n            \n            print(f\"\\n\ud83d\udcb0 EVENT SUMMARY\")\n            print(f\"   Total P&L: ${total_pl:+.2f}\")\n            print(f\"   ROI: {roi:+.1%}\")\n    \n    return updated_count\n\ndef show_pending_bets():\n    \"\"\"Show all pending bets needing updates\"\"\"\n    pending = tracker.get_pending_bets()\n    \n    if pending.empty:\n        print(\"\u2705 No pending bets\")\n        return\n    \n    print(f\"\ud83d\udccb PENDING BETS ({len(pending)} total)\")\n    print(\"-\" * 40)\n    \n    for _, bet in pending.iterrows():\n        print(f\"\ud83c\udfb2 {bet['bet_id']}\")\n        print(f\"   {bet['fighter']} vs {bet['opponent']}\")\n        print(f\"   ${bet['bet_size']:.2f} at {bet['odds_decimal']} odds\")\n        print()\n\ndef show_performance_summary():\n    \"\"\"Show recent performance\"\"\"\n    report = tracker.generate_performance_report(days=30)\n    \n    if report.get('settled_bets', 0) > 0:\n        print(f\"\ud83d\udcc8 PERFORMANCE (Last 30 Days)\")\n        print(f\"Win Rate: {report.get('win_rate', 0):.1%}\")\n        print(f\"Total P&L: ${report.get('total_profit', 0):+.2f}\")\n        print(f\"ROI: {report.get('roi', 0):+.1%}\")\n\n# Show current status\nprint(\"\\n\ud83d\udccb CURRENT STATUS\")\nprint(\"-\" * 20)\nshow_pending_bets()\nshow_performance_summary()\n\nprint(f\"\\n\ud83d\udca1 USAGE EXAMPLES\")\nprint(\"-\" * 20)\nprint(\"# Update single bet:\")\nprint(\"update_single_bet('BET_20250726_123456_abc12345', 'WIN')\")\nprint()\nprint(\"# Update full event:\")\nprint(\"update_event_results_simple('UFC Fight Night - Whittaker vs de Ridder', {\")\nprint(\"    'Robert Whittaker': 'WIN',\")\nprint(\"    'Petr Yan': 'LOSS'\")\nprint(\"})\")\nprint()\nprint(\"# Check status:\")\nprint(\"show_pending_bets()\")\nprint(\"show_performance_summary()\")",
   "metadata": {},
   "execution_count": null,
   "outputs": []
  },
  {
   "cell_type": "code",
   "source": "# \ud83c\udfe6 BET TRACKING INTEGRATION\n# ==========================================\n# Automatically extract and log betting recommendations to CSV\n\nprint(\"\ud83c\udfe6 AUTOMATED BET TRACKING INTEGRATION\")\nprint(\"=\" * 60)\n\n# Import bet tracking system with module reload support\ntry:\n    import sys\n    import importlib\n    sys.path.append('.')\n    \n    # Force reload bet_tracking module to get latest changes\n    if 'src.bet_tracking' in sys.modules:\n        importlib.reload(sys.modules['src.bet_tracking'])\n        print(\"\ud83d\udd04 Reloaded bet_tracking module with latest changes\")\n    \n    from src.bet_tracking import BetTracker, quick_log_notebook_recommendations\n    print(\"\u2705 Bet tracking system imported successfully\")\nexcept ImportError as e:\n    print(f\"\u274c Error importing bet tracking: {e}\")\n    print(\"\ud83d\udca1 Make sure bet_tracking.py exists in src/ directory\")\n\n# Configuration\nCURRENT_EVENT = \"UFC Fight Night - Whittaker vs de Ridder\"  # \u2190 Update this for each event\nCURRENT_BANKROLL = small_bankroll if 'small_bankroll' in globals() else 21.38\n\nprint(f\"\ud83d\udcc5 Event: {CURRENT_EVENT}\")\nprint(f\"\ud83d\udcb3 Bankroll: ${CURRENT_BANKROLL:.2f}\")\n\n# Extract recommendations from notebook variables\ndef extract_betting_recommendations():\n    \"\"\"Extract betting recommendations from various notebook variables\"\"\"\n    \n    recommendations = []\n    source = \"unknown\"\n    \n    # Try different variable names that might contain recommendations\n    if 'profitability_results' in globals() and profitability_results:\n        if profitability_results.get('opportunities'):\n            recommendations = profitability_results['opportunities']\n            source = \"profitability_results\"\n            \n    elif 'backup_results' in globals() and backup_results:\n        if backup_results.get('opportunities'):\n            recommendations = backup_results['opportunities']  \n            source = \"backup_results\"\n            \n    elif 'final_recommendations' in globals() and final_recommendations:\n        recommendations = final_recommendations\n        source = \"final_recommendations\"\n    \n    return recommendations, source\n\n# Extract and log recommendations\nrecommendations, source = extract_betting_recommendations()\n\nif recommendations:\n    print(f\"\n\ud83d\udcca Found {len(recommendations)} recommendations from '{source}'\")\n    print(\"-\" * 50)\n    \n    # Display what will be logged\n    for i, rec in enumerate(recommendations, 1):\n        fighter = getattr(rec, 'fighter', 'Unknown')\n        opponent = getattr(rec, 'opponent', 'Unknown')\n        bet_size = getattr(rec, 'recommended_bet', 0.0)\n        odds = getattr(rec, 'tab_decimal_odds', 0.0)\n        ev = getattr(rec, 'expected_value', 0.0)\n        \n        # Adjust bet size for small bankroll safety\n        max_bet_size = CURRENT_BANKROLL * 0.10  # 10% max per bet\n        actual_bet = min(bet_size, max_bet_size)\n        \n        print(f\"{i}. {fighter} vs {opponent}\")\n        print(f\"   \ud83d\udcb0 Recommended: ${bet_size:.2f} \u2192 Adjusted: ${actual_bet:.2f}\")\n        print(f\"   \ud83d\udcca Odds: {odds} | EV: {ev:.1%}\")\n    \n    # Log the bets\n    try:\n        bet_ids = quick_log_notebook_recommendations(\n            recommendations, \n            CURRENT_EVENT, \n            CURRENT_BANKROLL\n        )\n        \n        print(f\"\n\u2705 SUCCESS: Logged {len(bet_ids)} bets to CSV\")\n        print(\"\ud83d\udccb Bet IDs created:\")\n        for bet_id in bet_ids:\n            print(f\"   \ud83d\udcdd {bet_id}\")\n            \n    except Exception as e:\n        print(f\"\u274c Error logging bets: {e}\")\n        \nelse:\n    print(\"\n\u26a0\ufe0f  NO RECOMMENDATIONS FOUND\")\n    print(\"\ud83d\udca1 Make sure you've run the profitability analysis first\")\n\n# Show betting summary and next steps\nprint(f\"\n\ud83c\udfaf BETTING EXECUTION PLAN\")\nprint(\"=\" * 30)\n\nif recommendations:\n    total_stake = sum(min(getattr(rec, 'recommended_bet', 0), CURRENT_BANKROLL * 0.10) \n                     for rec in recommendations)\n    expected_profit = sum(min(getattr(rec, 'recommended_bet', 0), CURRENT_BANKROLL * 0.10) \n                         * getattr(rec, 'expected_value', 0) for rec in recommendations)\n    \n    print(f\"\ud83d\udcb5 Total Stake: ${total_stake:.2f}\")\n    print(f\"\ud83d\udcb0 Expected Profit: ${expected_profit:.2f}\")\n    print(f\"\ud83d\udcca Bankroll Risk: {(total_stake/CURRENT_BANKROLL)*100:.1f}%\")\n    print(f\"\ud83d\udcc8 Expected ROI: {(expected_profit/total_stake)*100:.1f}%\")\n    \n    print(f\"\n\u2705 NEXT STEPS:\")\n    print(\"1. \ud83c\udfe6 Verify TAB account has sufficient funds\")\n    print(\"2. \ud83d\udcf1 Log into TAB app/website\")\n    print(\"3. \ud83c\udfaf Place bets according to logged recommendations\")\n    print(\"4. \ud83d\udcf8 Screenshot bet confirmations\")\n    print(\"5. \u23f0 Return after fights to update results\")\nelse:\n    print(\"\u274c No bets to execute\")\n\nprint(f\"\n\" + \"=\"*60)\nprint(\"\ud83c\udfc6 BET TRACKING COMPLETE - Data saved to betting_records.csv\")\nprint(\"=\"*60)",
   "metadata": {},
   "execution_count": null,
   "outputs": []
  },
  {
   "cell_type": "markdown",
   "source": "## \ud83d\udccb POST-CARD PERFORMANCE TRACKING\n\n**After the fights, come back to this section to track your results:**\n\n### Results Tracking Template\n```\n\ud83c\udfc6 Card: UFC Fight Night - Whittaker vs de Ridder\n\ud83d\udcc5 Date: [Fill in fight date]\n\ud83d\udcb3 Starting Bankroll: $21.38\n\nBETS PLACED:\n[ ] Fighter 1: $X.XX at Y.YY odds \u2192 Result: WIN/LOSS \u2192 P&L: +$X.XX\n[ ] Fighter 2: $X.XX at Y.YY odds \u2192 Result: WIN/LOSS \u2192 P&L: +$X.XX\n[ ] Fighter 3: $X.XX at Y.YY odds \u2192 Result: WIN/LOSS \u2192 P&L: +$X.XX\n\nSUMMARY:\n\u2022 Total Bets: X\n\u2022 Total Stakes: $X.XX  \n\u2022 Total Returns: $X.XX\n\u2022 Net P&L: +$X.XX\n\u2022 Win Rate: X/X (XX%)\n\u2022 ROI: XX%\n\u2022 Ending Bankroll: $XX.XX\n```\n\n### Next Steps After Results\n1. **Update your bankroll** for the next card\n2. **Review prediction accuracy** vs actual outcomes  \n3. **Analyze betting performance** vs expected values\n4. **Adjust strategy** based on results and lessons learned\n5. **Plan for next profitable card** when opportunities arise\n\n### Performance Goals\n- **Target Win Rate:** 55%+ on value bets\n- **Target ROI:** 10%+ per card\n- **Bankroll Growth:** 20%+ monthly\n- **Risk Management:** Never risk >25% per card",
   "metadata": {}
  },
  {
   "cell_type": "code",
   "source": "# \ud83c\udf96\ufe0f ALTERNATIVE ANALYSIS: CACHED ODDS MODE\n\ndef run_cached_analysis():\n    \"\"\"Run analysis with cached odds when live scraping fails\"\"\"\n    \n    print(\"\ud83d\udd04 BACKUP ANALYSIS MODE\")\n    print(\"=\" * 40)\n    print(\"Using cached odds data for analysis...\")\n    print(\"(Live odds may be unavailable or different)\")\n    print()\n    \n    try:\n        # Try with cached odds instead\n        backup_analyzer = TABProfitabilityAnalyzer(\n            bankroll=small_bankroll, \n            use_live_odds=False  # Use cached data\n        )\n        \n        backup_results = backup_analyzer.analyze_predictions(card_predictions)\n        \n        print(\"\ud83d\udcca CACHED ODDS ANALYSIS\")\n        print(\"-\" * 30)\n        backup_analyzer._print_summary(backup_results)\n        \n        if backup_results.get('opportunities'):\n            print(\"\\n\ud83d\udca1 CACHED BETTING RECOMMENDATIONS\")\n            print(\"-\" * 35)\n            print(\"\u26a0\ufe0f  Important: Verify current odds before betting!\")\n            print(\"These recommendations are based on historical data.\")\n            print()\n            \n            for i, opp in enumerate(backup_results['opportunities'], 1):\n                max_bet = min(opp.recommended_bet, small_bankroll * 0.10)\n                print(f\"{i}. {opp.fighter}: ${max_bet:.2f} at {opp.tab_decimal_odds} odds\")\n                print(f\"   EV: {opp.expected_value:.1%} | Profit: ${max_bet * opp.expected_value:.2f}\")\n        \n        return backup_results\n        \n    except Exception as e:\n        print(f\"\u274c Cached analysis also failed: {e}\")\n        return None\n\n# Run backup analysis if main analysis failed\nif not profitability_results:\n    print(\"\ud83d\udd04 Attempting backup analysis with cached odds...\")\n    backup_results = run_cached_analysis()\nelse:\n    print(\"\u2705 Main analysis successful - backup not needed\")",
   "metadata": {},
   "execution_count": null,
   "outputs": []
  },
  {
   "cell_type": "code",
   "source": "# \ud83d\udcda SMALL BANKROLL STRATEGY GUIDE\n\ndef display_bankroll_strategy():\n    \"\"\"Educational guide for effective small bankroll management\"\"\"\n    \n    print(\"\ud83d\udcda SMALL BANKROLL BETTING STRATEGY\")\n    print(\"=\" * 50)\n    print(\"\ud83d\udca1 Professional tips for maximizing $21.38 effectively\")\n    print()\n    \n    print(\"\ud83c\udfaf CORE PRINCIPLES\")\n    print(\"-\" * 20)\n    print(\"1. \ud83d\udee1\ufe0f  Capital Preservation is Priority #1\")\n    print(\"   \u251c\u2500 Never risk more than 10% on any single bet\")\n    print(\"   \u251c\u2500 Maximum daily risk: 25% of total bankroll\")\n    print(\"   \u2514\u2500 Focus on high-probability, value opportunities\")\n    print()\n    print(\"2. \ud83d\udcca Value-Based Betting Only\")\n    print(\"   \u251c\u2500 Minimum 5% expected value to place bet\")\n    print(\"   \u251c\u2500 Prefer 10%+ EV opportunities when available\")\n    print(\"   \u2514\u2500 Skip marginal bets that don't meet criteria\")\n    print()\n    print(\"3. \ud83c\udfb2 Variance Management\")\n    print(\"   \u251c\u2500 Small bankrolls are vulnerable to bad luck\")\n    print(\"   \u251c\u2500 Focus on higher-probability outcomes\")\n    print(\"   \u2514\u2500 Avoid parlay/multi-bets with tiny bankrolls\")\n    print()\n    \n    print(\"\ud83d\udcb0 OPTIMAL BET SIZING\")\n    print(\"-\" * 20)\n    print(f\"\u2022 Conservative: $1.00 - $2.00 per bet (5-9%)\")\n    print(f\"\u2022 Standard: $2.00 - $3.00 per bet (9-14%)\")  \n    print(f\"\u2022 Aggressive: $3.00+ per bet (>14%) - High Risk\")\n    print()\n    print(\"\ud83d\udd04 BANKROLL GROWTH STRATEGY\")\n    print(\"-\" * 30)\n    print(\"Phase 1: $21 \u2192 $50 (Conservative 5% bets)\")\n    print(\"Phase 2: $50 \u2192 $100 (Standard 8% bets)\")\n    print(\"Phase 3: $100+ (Normal Kelly betting)\")\n    print()\n    \n    print(\"\ud83d\udcc8 PERFORMANCE TRACKING\")\n    print(\"-\" * 25)\n    print(\"Track these metrics after every card:\")\n    print(\"\u2022 Win Rate: Target >55% on value bets\")\n    print(\"\u2022 ROI: Target >10% return on stakes\")\n    print(\"\u2022 Bankroll Growth: Target +20% monthly\")\n    print(\"\u2022 Max Drawdown: Keep under 30%\")\n    print()\n    \n    print(\"\u26a0\ufe0f  WARNING SIGNS TO STOP BETTING\")\n    print(\"-\" * 35)\n    print(\"\u2022 Bankroll drops below $15 (preserve remaining)\")\n    print(\"\u2022 Three losing sessions in a row (reassess)\")\n    print(\"\u2022 Emotional betting or chasing losses\")\n    print(\"\u2022 No clear value opportunities available\")\n    print()\n    \n    print(\"\ud83c\udfaf TODAY'S SPECIFIC GUIDANCE\")\n    print(\"-\" * 30)\n    print(f\"\u2705 Available: ${small_bankroll:.2f}\")\n    print(f\"\ud83c\udfaf Max per bet: ${small_bankroll * 0.10:.2f}\")\n    print(f\"\ud83d\udcca Max total today: ${small_bankroll * 0.25:.2f}\")\n    print(f\"\ud83d\udee1\ufe0f  Preserve minimum: ${small_bankroll * 0.75:.2f}\")\n    \n    return True\n\ndisplay_bankroll_strategy()",
   "metadata": {},
   "execution_count": null,
   "outputs": []
  },
  {
   "cell_type": "code",
   "source": "# \ud83c\udfaf PROFESSIONAL BETTING RECOMMENDATIONS\n\ndef format_betting_summary(results, card_results, bankroll=21.38):\n    \"\"\"Create professional betting summary with clear recommendations\"\"\"\n    \n    print(\"\ud83c\udfc6 PROFESSIONAL BETTING RECOMMENDATIONS\")\n    print(\"=\" * 60)\n    print(f\"\ud83d\udcb3 Available Bankroll: ${bankroll:.2f}\")\n    print(f\"\ud83c\udfaf Risk Management: Conservative approach for small bankroll\")\n    print(f\"\ud83d\udcc8 Strategy: High-confidence value bets only\")\n    print(\"-\" * 60)\n    \n    if not results or not results.get('opportunities'):\n        print(\"\\n\u26a0\ufe0f  RECOMMENDATION: NO BETS TODAY\")\n        print(\"\u251c\u2500 Reason: No profitable opportunities identified\")\n        print(\"\u251c\u2500 Action: Preserve bankroll for better opportunities\")\n        print(\"\u2514\u2500 Next: Monitor odds changes throughout the day\")\n        \n        # Show fight predictions anyway for information\n        print(f\"\\n\ud83d\udcca FIGHT PREDICTIONS (Information Only)\")\n        print(\"-\" * 40)\n        for i, result in enumerate(card_results, 1):\n            if 'error' not in result:\n                print(f\"{i}. {result['fight']}\")\n                print(f\"   \u251c\u2500 Predicted Winner: {result['predicted_winner']} ({result['winner_confidence']})\")\n                print(f\"   \u251c\u2500 Method: {result['predicted_method']}\")\n                print(f\"   \u2514\u2500 Status: No profitable odds found\")\n        \n        return\n    \n    # We have profitable opportunities\n    opportunities = results['opportunities']\n    total_stake = sum(opp.recommended_bet for opp in opportunities)\n    \n    print(f\"\u2705 BETTING OPPORTUNITIES FOUND: {len(opportunities)}\")\n    print(f\"\ud83d\udcb0 Total Expected Profit: ${results['total_expected_profit']:.2f}\")\n    print(f\"\ud83d\udcb5 Total Stake Required: ${total_stake:.2f}\")\n    print(f\"\ud83d\udcca Bankroll Usage: {(total_stake/bankroll)*100:.1f}%\")\n    \n    # Bankroll safety check\n    if total_stake > bankroll * 0.5:  # More than 50% of bankroll\n        print(f\"\\n\u26a0\ufe0f  HIGH RISK WARNING\")\n        print(f\"\u251c\u2500 Recommended stakes exceed 50% of bankroll\")\n        print(f\"\u251c\u2500 Consider reducing bet sizes or selecting top opportunities only\")\n        print(f\"\u2514\u2500 Small bankroll requires extra caution\")\n    \n    print(f\"\\n\ud83c\udfaf SPECIFIC BETTING INSTRUCTIONS\")\n    print(\"-\" * 40)\n    \n    for i, opp in enumerate(opportunities, 1):\n        # Calculate adjusted bet size for small bankroll (max 10% per bet)\n        max_bet_per_fight = bankroll * 0.10\n        actual_bet = min(opp.recommended_bet, max_bet_per_fight)\n        adjusted_profit = actual_bet * opp.expected_value\n        \n        print(f\"\\n{i}. \ud83e\udd4a {opp.fighter} vs {opp.opponent}\")\n        print(f\"   \u251c\u2500 Model Confidence: {opp.model_prob:.1%}\")\n        print(f\"   \u251c\u2500 TAB Odds: {opp.tab_decimal_odds} ({opp.american_odds:+d})\")\n        print(f\"   \u251c\u2500 Expected Value: {opp.expected_value:.1%}\")\n        print(f\"   \u251c\u2500 Recommended Bet: ${actual_bet:.2f}\")\n        if actual_bet != opp.recommended_bet:\n            print(f\"   \u251c\u2500 (Reduced from ${opp.recommended_bet:.2f} for bankroll safety)\")\n        print(f\"   \u251c\u2500 Expected Profit: ${adjusted_profit:.2f}\")\n        print(f\"   \u2514\u2500 Risk Level: {'\ud83d\udfe2 Low' if opp.expected_value > 0.1 else '\ud83d\udfe1 Medium' if opp.expected_value > 0.05 else '\ud83d\udd34 High'}\")\n    \n    # Calculate totals with adjusted bets\n    adjusted_total_stake = sum(min(opp.recommended_bet, bankroll * 0.10) for opp in opportunities)\n    adjusted_total_profit = sum(min(opp.recommended_bet, bankroll * 0.10) * opp.expected_value for opp in opportunities)\n    \n    print(f\"\\n\ud83d\udcbc FINAL BETTING PLAN\")\n    print(\"-\" * 25)\n    print(f\"\ud83d\udcb3 Total Stakes: ${adjusted_total_stake:.2f}\")\n    print(f\"\ud83d\udcb0 Expected Profit: ${adjusted_total_profit:.2f}\")\n    print(f\"\ud83d\udcc8 ROI: {(adjusted_total_profit/adjusted_total_stake)*100:.1f}%\")\n    print(f\"\ud83d\udee1\ufe0f  Bankroll Risk: {(adjusted_total_stake/bankroll)*100:.1f}%\")\n    \n    print(f\"\\n\ud83d\ude80 EXECUTION CHECKLIST\")\n    print(\"-\" * 25)\n    print(\"\u25a1 1. Verify you have $21.38 available in TAB account\")\n    print(\"\u25a1 2. Double-check odds haven't changed significantly\")\n    print(\"\u25a1 3. Place bets in order of highest EV first\")\n    print(\"\u25a1 4. Screenshot bet slips for record keeping\")\n    print(\"\u25a1 5. Set reminders to track fight results\")\n    print(\"\u25a1 6. Update bankroll based on outcomes\")\n    \n    return {\n        'total_bets': len(opportunities),\n        'total_stake': adjusted_total_stake,\n        'expected_profit': adjusted_total_profit,\n        'bankroll_risk': (adjusted_total_stake/bankroll)*100\n    }\n\n# Execute the betting summary\nif profitability_results:\n    summary_stats = format_betting_summary(profitability_results, tomorrow_results, small_bankroll)\nelse:\n    print(\"\u26a0\ufe0f  Unable to generate betting recommendations due to analysis error\")\n    print(\"\ud83d\udca1 Try running the profitability analysis cell again\")",
   "metadata": {},
   "execution_count": null,
   "outputs": []
  },
  {
   "cell_type": "code",
   "source": "# COMPREHENSIVE BETTING ANALYSIS\n# Analyze profitability with live TAB Australia odds\n\nprint(\"\ud83c\udde6\ud83c\uddfa LIVE PROFITABILITY ANALYSIS\")\nprint(\"=\" * 50)\n\n# Import profitability analyzer\nfrom src.tab_profitability import TABProfitabilityAnalyzer\n\n# Set up small bankroll analysis (conservative approach)\nsmall_bankroll = 21.38\nanalyzer = TABProfitabilityAnalyzer(bankroll=small_bankroll, use_live_odds=True)\n\n# Run comprehensive analysis\ntry:\n    profitability_results = analyzer.analyze_predictions(card_predictions)\n    \n    print(\"\\n\ud83d\udcca ANALYSIS COMPLETE\")\n    print(\"-\" * 30)\n    \n    # Display results using the analyzer's built-in summary\n    analyzer._print_summary(profitability_results)\n    \nexcept Exception as e:\n    print(f\"\u274c Error in profitability analysis: {e}\")\n    print(\"\ud83d\udca1 Tip: Try running again or check internet connection for live odds\")\n    profitability_results = None",
   "metadata": {},
   "execution_count": null,
   "outputs": []
  },
  {
   "cell_type": "code",
   "source": "# TOMORROW'S CARD: UFC FIGHT NIGHT - WHITTAKER VS DE RIDDER\n# Predict all fights for comprehensive betting analysis\n\ntomorrow_card = [\n    \"Robert Whittaker vs Reinier de Ridder\",\n    \"Petr Yan vs Marcus McGhee\", \n    \"Sharaputdin Magomedov vs Marc-Andr\u00e9 Barriault\",\n    \"Asu Almabayev vs Jose Ochoa\",\n    \"Nikita Krylov vs Bogdan Guskov\"\n]\n\nprint(\"\ud83c\udfc6 TOMORROW'S UFC CARD PREDICTIONS\")\nprint(\"=\" * 60)\nprint(\"\ud83d\udcc5 Event: UFC Fight Night - Whittaker vs de Ridder\")\nprint(\"\ud83d\udd50 Analysis Date:\", pd.Timestamp.now().strftime(\"%Y-%m-%d %H:%M\"))\nprint(\"\ud83d\udcb3 Target Bankroll: $21.38\")\nprint(\"-\" * 60)\n\n# Get predictions for tomorrow's card\ntomorrow_results = predict_fight_card(tomorrow_card, show_summary=False)\n\n# Store predictions in format needed for profitability analysis\ncard_predictions = {}\nfor result in tomorrow_results:\n    if 'error' not in result:\n        # Extract probability as decimal\n        prob_str = result['winner_confidence'].replace('%', '')\n        probability = float(prob_str) / 100\n        card_predictions[result['predicted_winner']] = probability\n\nprint(f\"\\n\u2705 Successfully generated {len(card_predictions)} predictions for profitability analysis\")",
   "metadata": {},
   "execution_count": null,
   "outputs": []
  },
  {
   "cell_type": "markdown",
   "source": "# \ud83c\udfaf BETTING SUMMARY & RECOMMENDATIONS\n\n**Professional UFC Betting Analysis for Tomorrow's Card**\n\nThis section provides clear, actionable betting recommendations optimized for small bankroll management and maximum value identification.",
   "metadata": {}
  },
  {
   "cell_type": "markdown",
   "metadata": {},
   "source": [
    "# UFC Fight Predictions - Clean Interface\n",
    "\n",
    "Simple, focused notebook for predicting UFC fight outcomes using the latest trained models.\n",
    "\n",
    "**Features:**\n",
    "- Automatic latest model loading\n",
    "- Single fight predictions\n",
    "- Full fight card analysis\n",
    "- Clean, professional output"
   ]
  },
  {
   "cell_type": "code",
   "execution_count": 2,
   "metadata": {},
   "outputs": [
    {
     "name": "stdout",
     "output_type": "stream",
     "text": [
      "\u2705 Imports loaded successfully\n"
     ]
    }
   ],
   "source": [
    "# Essential imports\n",
    "import pandas as pd\n",
    "import numpy as np\n",
    "import joblib\n",
    "import json\n",
    "import sys\n",
    "from pathlib import Path\n",
    "import matplotlib.pyplot as plt\n",
    "import warnings\n",
    "warnings.filterwarnings('ignore')\n",
    "\n",
    "# Add project root to path\n",
    "sys.path.append('..')\n",
    "print(\"\u2705 Imports loaded successfully\")"
   ]
  },
  {
   "cell_type": "code",
   "execution_count": 3,
   "metadata": {},
   "outputs": [
    {
     "name": "stdout",
     "output_type": "stream",
     "text": [
      "\u2705 Models loaded successfully\n",
      "   Version: 2025-07-23_09-51\n",
      "   Fighters in database: 4,364\n",
      "   Winner model features: 70\n"
     ]
    }
   ],
   "source": [
    "# Load latest trained models and data\n",
    "def load_latest_models():\n",
    "    \"\"\"Auto-detect and load the latest trained models.\"\"\"\n",
    "    model_dir = Path('./model')\n",
    "    \n",
    "    # Find latest training directory\n",
    "    training_dirs = [d for d in model_dir.iterdir() \n",
    "                    if d.is_dir() and d.name.startswith('training_')]\n",
    "    \n",
    "    if training_dirs:\n",
    "        latest_dir = max(training_dirs, key=lambda x: x.stat().st_mtime)\n",
    "        timestamp = latest_dir.name.split('_', 1)[1]\n",
    "        \n",
    "        # Load from latest training directory\n",
    "        winner_model_path = latest_dir / f'ufc_winner_model_tuned_{timestamp}.joblib'\n",
    "        method_model_path = latest_dir / f'ufc_method_model_{timestamp}.joblib'\n",
    "        winner_cols_path = latest_dir / f'winner_model_columns_{timestamp}.json'\n",
    "        method_cols_path = latest_dir / f'method_model_columns_{timestamp}.json'\n",
    "        fighters_data_path = latest_dir / f'ufc_fighters_engineered_{timestamp}.csv'\n",
    "        version = timestamp\n",
    "    else:\n",
    "        # Fallback to standard locations\n",
    "        winner_model_path = model_dir / 'ufc_random_forest_model_tuned.joblib'\n",
    "        method_model_path = model_dir / 'ufc_multiclass_model.joblib'\n",
    "        winner_cols_path = model_dir / 'winner_model_columns.json'\n",
    "        method_cols_path = model_dir / 'method_model_columns.json'\n",
    "        fighters_data_path = model_dir / 'ufc_fighters_engineered_corrected.csv'\n",
    "        version = 'standard'\n",
    "    \n",
    "    # Load all components\n",
    "    try:\n",
    "        fighters_df = pd.read_csv(fighters_data_path)\n",
    "        \n",
    "        with open(winner_cols_path, 'r') as f:\n",
    "            winner_cols = json.load(f)\n",
    "        with open(method_cols_path, 'r') as f:\n",
    "            method_cols = json.load(f)\n",
    "        \n",
    "        winner_model = joblib.load(winner_model_path)\n",
    "        method_model = joblib.load(method_model_path)\n",
    "        \n",
    "        return {\n",
    "            'fighters_df': fighters_df,\n",
    "            'winner_cols': winner_cols,\n",
    "            'method_cols': method_cols,\n",
    "            'winner_model': winner_model,\n",
    "            'method_model': method_model,\n",
    "            'version': version,\n",
    "            'fighter_count': len(fighters_df)\n",
    "        }\n",
    "    except Exception as e:\n",
    "        print(f\"\u274c Error loading models: {e}\")\n",
    "        return None\n",
    "\n",
    "# Load models\n",
    "model_data = load_latest_models()\n",
    "\n",
    "if model_data:\n",
    "    print(f\"\u2705 Models loaded successfully\")\n",
    "    print(f\"   Version: {model_data['version']}\")\n",
    "    print(f\"   Fighters in database: {model_data['fighter_count']:,}\")\n",
    "    print(f\"   Winner model features: {len(model_data['winner_cols'])}\")\n",
    "else:\n",
    "    print(\"\u274c Failed to load models. Check if models exist in ./model/ directory.\")"
   ]
  },
  {
   "cell_type": "code",
   "execution_count": 4,
   "metadata": {},
   "outputs": [
    {
     "name": "stdout",
     "output_type": "stream",
     "text": [
      "\u2705 Prediction function ready\n"
     ]
    }
   ],
   "source": [
    "# Clean prediction function\n",
    "def predict_fight(fighter1, fighter2, show_details=True):\n",
    "    \"\"\"Predict UFC fight outcome with clean output.\"\"\"\n",
    "    \n",
    "    if not model_data:\n",
    "        return {\"error\": \"Models not loaded\"}\n",
    "    \n",
    "    # Import prediction function\n",
    "    try:\n",
    "        from src.prediction import predict_fight_symmetrical\n",
    "    except ImportError:\n",
    "        return {\"error\": \"Could not import prediction function\"}\n",
    "    \n",
    "    # Make prediction\n",
    "    result = predict_fight_symmetrical(\n",
    "        fighter1, fighter2,\n",
    "        model_data['fighters_df'],\n",
    "        model_data['winner_cols'],\n",
    "        model_data['method_cols'],\n",
    "        model_data['winner_model'],\n",
    "        model_data['method_model']\n",
    "    )\n",
    "    \n",
    "    # Handle errors\n",
    "    if 'error' in result:\n",
    "        if show_details:\n",
    "            print(f\"\u274c {result['error']}\")\n",
    "        return result\n",
    "    \n",
    "    # Display results\n",
    "    if show_details:\n",
    "        print(f\"\ud83e\udd4a {result['fight']}\")\n",
    "        print(f\"   Winner: {result['predicted_winner']} ({result['winner_confidence']})\")\n",
    "        print(f\"   Method: {result['predicted_method']}\")\n",
    "        print(f\"   Method probabilities:\")\n",
    "        for method, prob in result['method_probabilities'].items():\n",
    "            print(f\"      {method}: {prob}\")\n",
    "    \n",
    "    return result\n",
    "\n",
    "print(\"\u2705 Prediction function ready\")"
   ]
  },
  {
   "cell_type": "code",
   "execution_count": 11,
   "metadata": {},
   "outputs": [
    {
     "name": "stdout",
     "output_type": "stream",
     "text": [
      "\ud83e\udd4a Merab Dvalishvili vs Cory Sandhagen\n",
      "   Winner: Merab Dvalishvili (72.68%)\n",
      "   Method: KO/TKO\n",
      "   Method probabilities:\n",
      "      Decision: 8.80%\n",
      "      KO/TKO: 64.40%\n",
      "      Submission: 26.80%\n"
     ]
    }
   ],
   "source": [
    "# Single Fight Prediction\n",
    "# Simply change the fighter names below to predict any fight\n",
    "\n",
    "fighter_a = \"Merab Dvalishvili\"\n",
    "fighter_b = \"Cory Sandhagen\"\n",
    "\n",
    "prediction = predict_fight(fighter_a, fighter_b)\n",
    "\n",
    "# You can also predict other fights by changing the names:\n",
    "# prediction = predict_fight(\"Islam Makhachev\", \"Charles Oliveira\")\n",
    "# prediction = predict_fight(\"Alex Pereira\", \"Israel Adesanya\")"
   ]
  },
  {
   "cell_type": "code",
   "execution_count": 6,
   "metadata": {},
   "outputs": [
    {
     "name": "stdout",
     "output_type": "stream",
     "text": [
      "\u2705 Fight card function ready\n"
     ]
    }
   ],
   "source": [
    "# Multi-Fight Card Analysis\n",
    "def predict_fight_card(fight_list, show_summary=True):\n",
    "    \"\"\"Predict multiple fights with clean summary.\"\"\"\n",
    "    \n",
    "    results = []\n",
    "    \n",
    "    print(f\"\ud83c\udfc6 UFC FIGHT CARD PREDICTIONS\\n{'-'*50}\")\n",
    "    \n",
    "    for i, fight in enumerate(fight_list, 1):\n",
    "        # Handle different input formats\n",
    "        if isinstance(fight, tuple):\n",
    "            f1, f2 = fight\n",
    "        elif ' vs ' in fight:\n",
    "            f1, f2 = fight.split(' vs ')\n",
    "        elif ' vs. ' in fight:\n",
    "            f1, f2 = fight.split(' vs. ')\n",
    "        else:\n",
    "            print(f\"\u274c Invalid fight format: {fight}\")\n",
    "            continue\n",
    "        \n",
    "        f1, f2 = f1.strip(), f2.strip()\n",
    "        \n",
    "        print(f\"\\nFight {i}: {f1} vs {f2}\")\n",
    "        result = predict_fight(f1, f2, show_details=False)\n",
    "        \n",
    "        if 'error' not in result:\n",
    "            print(f\"   \u2192 {result['predicted_winner']} ({result['winner_confidence']})\")\n",
    "            print(f\"   \u2192 Method: {result['predicted_method']}\")\n",
    "            results.append(result)\n",
    "        else:\n",
    "            print(f\"   \u2192 {result['error']}\")\n",
    "    \n",
    "    # Summary\n",
    "    if show_summary and results:\n",
    "        print(f\"\\n\ud83d\udcca CARD SUMMARY\\n{'-'*20}\")\n",
    "        \n",
    "        # Method distribution\n",
    "        methods = [r['predicted_method'] for r in results]\n",
    "        method_counts = pd.Series(methods).value_counts()\n",
    "        \n",
    "        print(\"Predicted methods:\")\n",
    "        for method, count in method_counts.items():\n",
    "            print(f\"   {method}: {count} fights\")\n",
    "    \n",
    "    return results\n",
    "\n",
    "print(\"\u2705 Fight card function ready\")"
   ]
  },
  {
   "cell_type": "code",
   "execution_count": 7,
   "metadata": {},
   "outputs": [
    {
     "name": "stdout",
     "output_type": "stream",
     "text": [
      "\ud83c\udfc6 UFC FIGHT CARD PREDICTIONS\n",
      "--------------------------------------------------\n",
      "\n",
      "Fight 1: Jon Jones vs Stipe Miocic\n",
      "   \u2192 Jon Jones (96.21%)\n",
      "   \u2192 Method: KO/TKO\n",
      "\n",
      "Fight 2: Islam Makhachev vs Charles Oliveira\n",
      "   \u2192 Islam Makhachev (95.03%)\n",
      "   \u2192 Method: Submission\n",
      "\n",
      "Fight 3: Alex Pereira vs Israel Adesanya\n",
      "   \u2192 Alex Pereira (63.38%)\n",
      "   \u2192 Method: KO/TKO\n",
      "\n",
      "Fight 4: Sean O'Malley vs Aljamain Sterling\n",
      "   \u2192 Sean O'Malley (89.69%)\n",
      "   \u2192 Method: KO/TKO\n",
      "\n",
      "Fight 5: Colby Covington vs Leon Edwards\n",
      "   \u2192 Leon Edwards (79.43%)\n",
      "   \u2192 Method: KO/TKO\n",
      "\n",
      "\ud83d\udcca CARD SUMMARY\n",
      "--------------------\n",
      "Predicted methods:\n",
      "   KO/TKO: 4 fights\n",
      "   Submission: 1 fights\n"
     ]
    }
   ],
   "source": [
    "# Example Fight Card\n",
    "# Edit this list to predict any upcoming UFC card\n",
    "\n",
    "upcoming_card = [\n",
    "    \"Jon Jones vs Stipe Miocic\",\n",
    "    \"Islam Makhachev vs Charles Oliveira\", \n",
    "    \"Alex Pereira vs Israel Adesanya\",\n",
    "    \"Sean O'Malley vs Aljamain Sterling\",\n",
    "    \"Colby Covington vs Leon Edwards\"\n",
    "]\n",
    "\n",
    "card_results = predict_fight_card(upcoming_card)\n",
    "\n",
    "# Alternative format - you can also use tuples:\n",
    "# card_as_tuples = [\n",
    "#     (\"Fighter A\", \"Fighter B\"),\n",
    "#     (\"Fighter C\", \"Fighter D\")\n",
    "# ]\n",
    "# results = predict_fight_card(card_as_tuples)"
   ]
  },
  {
   "cell_type": "code",
   "execution_count": 8,
   "metadata": {},
   "outputs": [
    {
     "data": {
      "image/png": "[encoded data removed]",
      "text/plain": [
       "<Figure size 800x500 with 1 Axes>"
      ]
     },
     "metadata": {},
     "output_type": "display_data"
    },
    {
     "name": "stdout",
     "output_type": "stream",
     "text": [
      "\n",
      "Method breakdown: {'KO/TKO': np.int64(4), 'Submission': np.int64(1)}\n"
     ]
    }
   ],
   "source": [
    "# Optional: Basic Visualization\n",
    "def plot_fight_methods(results, title=\"Fight Card Method Predictions\"):\n",
    "    \"\"\"Simple bar chart of predicted methods.\"\"\"\n",
    "    \n",
    "    if not results:\n",
    "        print(\"No results to plot\")\n",
    "        return\n",
    "    \n",
    "    # Count predicted methods\n",
    "    methods = [r['predicted_method'] for r in results if 'predicted_method' in r]\n",
    "    method_counts = pd.Series(methods).value_counts()\n",
    "    \n",
    "    # Create simple bar plot\n",
    "    plt.figure(figsize=(8, 5))\n",
    "    method_counts.plot(kind='bar', color=['#1f77b4', '#ff7f0e', '#2ca02c'])\n",
    "    plt.title(title)\n",
    "    plt.xlabel('Predicted Method')\n",
    "    plt.ylabel('Number of Fights') \n",
    "    plt.xticks(rotation=45)\n",
    "    plt.tight_layout()\n",
    "    plt.show()\n",
    "    \n",
    "    return method_counts\n",
    "\n",
    "# Plot the results from the previous card (if any)\n",
    "if 'card_results' in locals() and card_results:\n",
    "    method_distribution = plot_fight_methods(card_results, \"Upcoming Card Method Predictions\")\n",
    "    print(f\"\\nMethod breakdown: {dict(method_distribution)}\")\n",
    "else:\n",
    "    print(\"No card results to visualize. Run the fight card prediction first.\")"
   ]
  },
  {
   "cell_type": "code",
   "execution_count": 9,
   "metadata": {},
   "outputs": [
    {
     "name": "stdout",
     "output_type": "stream",
     "text": [
      "\n",
      "\u2705 All functions ready! You can now:\n",
      "   \u2022 Modify fighter names in the single fight cell\n",
      "   \u2022 Edit the upcoming_card list for multi-fight predictions\n",
      "   \u2022 Use search_fighters('name') to find exact fighter names\n",
      "   \u2022 Run plot_fight_methods(results) for visualizations\n"
     ]
    }
   ],
   "source": [
    "# Optional: Fighter Search Helper\n",
    "def search_fighters(search_term, limit=10):\n",
    "    \"\"\"Find fighters in database by name.\"\"\"\n",
    "    \n",
    "    if not model_data:\n",
    "        print(\"Models not loaded\")\n",
    "        return []\n",
    "    \n",
    "    # Search for fighters containing the term\n",
    "    fighters = model_data['fighters_df']['Name'].dropna()\n",
    "    matches = fighters[fighters.str.contains(search_term, case=False, na=False)]\n",
    "    \n",
    "    results = matches.head(limit).tolist()\n",
    "    \n",
    "    if results:\n",
    "        print(f\"Found {len(results)} fighters matching '{search_term}':\")\n",
    "        for i, fighter in enumerate(results, 1):\n",
    "            print(f\"   {i}. {fighter}\")\n",
    "    else:\n",
    "        print(f\"No fighters found matching '{search_term}'\")\n",
    "    \n",
    "    return results\n",
    "\n",
    "# Example searches - uncomment to use:\n",
    "# search_fighters(\"Jones\")\n",
    "# search_fighters(\"Silva\")\n",
    "# search_fighters(\"Mac\")  # Will find McGregor, MacDonald, etc.\n",
    "\n",
    "print(\"\\n\u2705 All functions ready! You can now:\")\n",
    "print(\"   \u2022 Modify fighter names in the single fight cell\")\n",
    "print(\"   \u2022 Edit the upcoming_card list for multi-fight predictions\")\n",
    "print(\"   \u2022 Use search_fighters('name') to find exact fighter names\")\n",
    "print(\"   \u2022 Run plot_fight_methods(results) for visualizations\")"
   ]
  }
 ],
 "metadata": {
  "kernelspec": {
   "display_name": "ufc-predictor",
   "language": "python",
   "name": "python3"
  },
  "language_info": {
   "codemirror_mode": {
    "name": "ipython",
    "version": 3
   },
   "file_extension": ".py",
   "mimetype": "text/x-python",
   "name": "python",
   "nbconvert_exporter": "python",
   "pygments_lexer": "ipython3",
   "version": "3.9.6"
  }
 },
 "nbformat": 4,
 "nbformat_minor": 4
}